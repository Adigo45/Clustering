{
 "cells": [
  {
   "cell_type": "markdown",
   "metadata": {},
   "source": [
    "## Importing all the required libraries necessary for the project."
   ]
  },
  {
   "cell_type": "code",
   "execution_count": 2,
   "metadata": {},
   "outputs": [],
   "source": [
    "import numpy as np\n",
    "import pandas as pd\n",
    "import matplotlib.pyplot as plt\n",
    "import seaborn as sns\n",
    "from sklearn.cluster import KMeans, DBSCAN\n"
   ]
  },
  {
   "cell_type": "code",
   "execution_count": 3,
   "metadata": {},
   "outputs": [],
   "source": [
    "df = pd.read_csv(\"Mall_Customers.csv\")"
   ]
  },
  {
   "cell_type": "code",
   "execution_count": 4,
   "metadata": {},
   "outputs": [
    {
     "data": {
      "text/html": [
       "<div>\n",
       "<style scoped>\n",
       "    .dataframe tbody tr th:only-of-type {\n",
       "        vertical-align: middle;\n",
       "    }\n",
       "\n",
       "    .dataframe tbody tr th {\n",
       "        vertical-align: top;\n",
       "    }\n",
       "\n",
       "    .dataframe thead th {\n",
       "        text-align: right;\n",
       "    }\n",
       "</style>\n",
       "<table border=\"1\" class=\"dataframe\">\n",
       "  <thead>\n",
       "    <tr style=\"text-align: right;\">\n",
       "      <th></th>\n",
       "      <th>CustomerID</th>\n",
       "      <th>Gender</th>\n",
       "      <th>Age</th>\n",
       "      <th>Annual Income (k$)</th>\n",
       "      <th>Spending Score (1-100)</th>\n",
       "    </tr>\n",
       "  </thead>\n",
       "  <tbody>\n",
       "    <tr>\n",
       "      <th>0</th>\n",
       "      <td>1</td>\n",
       "      <td>Male</td>\n",
       "      <td>19</td>\n",
       "      <td>15</td>\n",
       "      <td>39</td>\n",
       "    </tr>\n",
       "    <tr>\n",
       "      <th>1</th>\n",
       "      <td>2</td>\n",
       "      <td>Male</td>\n",
       "      <td>21</td>\n",
       "      <td>15</td>\n",
       "      <td>81</td>\n",
       "    </tr>\n",
       "    <tr>\n",
       "      <th>2</th>\n",
       "      <td>3</td>\n",
       "      <td>Female</td>\n",
       "      <td>20</td>\n",
       "      <td>16</td>\n",
       "      <td>6</td>\n",
       "    </tr>\n",
       "    <tr>\n",
       "      <th>3</th>\n",
       "      <td>4</td>\n",
       "      <td>Female</td>\n",
       "      <td>23</td>\n",
       "      <td>16</td>\n",
       "      <td>77</td>\n",
       "    </tr>\n",
       "    <tr>\n",
       "      <th>4</th>\n",
       "      <td>5</td>\n",
       "      <td>Female</td>\n",
       "      <td>31</td>\n",
       "      <td>17</td>\n",
       "      <td>40</td>\n",
       "    </tr>\n",
       "  </tbody>\n",
       "</table>\n",
       "</div>"
      ],
      "text/plain": [
       "   CustomerID  Gender  Age  Annual Income (k$)  Spending Score (1-100)\n",
       "0           1    Male   19                  15                      39\n",
       "1           2    Male   21                  15                      81\n",
       "2           3  Female   20                  16                       6\n",
       "3           4  Female   23                  16                      77\n",
       "4           5  Female   31                  17                      40"
      ]
     },
     "execution_count": 4,
     "metadata": {},
     "output_type": "execute_result"
    }
   ],
   "source": [
    "df.head()"
   ]
  },
  {
   "cell_type": "code",
   "execution_count": 6,
   "metadata": {},
   "outputs": [
    {
     "data": {
      "text/plain": [
       "Index(['CustomerID', 'Gender', 'Age', 'Annual Income (k$)',\n",
       "       'Spending Score (1-100)'],\n",
       "      dtype='object')"
      ]
     },
     "execution_count": 6,
     "metadata": {},
     "output_type": "execute_result"
    }
   ],
   "source": [
    "df.columns"
   ]
  },
  {
   "cell_type": "code",
   "execution_count": 9,
   "metadata": {},
   "outputs": [
    {
     "data": {
      "image/png": "[encoded data removed]",
      "text/plain": [
       "<Figure size 640x480 with 1 Axes>"
      ]
     },
     "metadata": {},
     "output_type": "display_data"
    }
   ],
   "source": [
    "sns.scatterplot(df,y='Spending Score (1-100)',x='Annual Income (k$)')\n",
    "plt.show()"
   ]
  },
  {
   "cell_type": "code",
   "execution_count": 10,
   "metadata": {},
   "outputs": [
    {
     "data": {
      "text/plain": [
       "(200, 5)"
      ]
     },
     "execution_count": 10,
     "metadata": {},
     "output_type": "execute_result"
    }
   ],
   "source": [
    "from sklearn.cluster import DBSCAN\n",
    "\n",
    "X = df.to_numpy()\n",
    "\n",
    "X.shape"
   ]
  },
  {
   "cell_type": "code",
   "execution_count": 56,
   "metadata": {},
   "outputs": [],
   "source": [
    "df1 = df[['Annual Income (k$)','Spending Score (1-100)',\"Age\"]]"
   ]
  },
  {
   "cell_type": "code",
   "execution_count": 57,
   "metadata": {},
   "outputs": [
    {
     "data": {
      "text/html": [
       "<div>\n",
       "<style scoped>\n",
       "    .dataframe tbody tr th:only-of-type {\n",
       "        vertical-align: middle;\n",
       "    }\n",
       "\n",
       "    .dataframe tbody tr th {\n",
       "        vertical-align: top;\n",
       "    }\n",
       "\n",
       "    .dataframe thead th {\n",
       "        text-align: right;\n",
       "    }\n",
       "</style>\n",
       "<table border=\"1\" class=\"dataframe\">\n",
       "  <thead>\n",
       "    <tr style=\"text-align: right;\">\n",
       "      <th></th>\n",
       "      <th>Annual Income (k$)</th>\n",
       "      <th>Spending Score (1-100)</th>\n",
       "      <th>Age</th>\n",
       "    </tr>\n",
       "  </thead>\n",
       "  <tbody>\n",
       "    <tr>\n",
       "      <th>0</th>\n",
       "      <td>15</td>\n",
       "      <td>39</td>\n",
       "      <td>19</td>\n",
       "    </tr>\n",
       "    <tr>\n",
       "      <th>1</th>\n",
       "      <td>15</td>\n",
       "      <td>81</td>\n",
       "      <td>21</td>\n",
       "    </tr>\n",
       "    <tr>\n",
       "      <th>2</th>\n",
       "      <td>16</td>\n",
       "      <td>6</td>\n",
       "      <td>20</td>\n",
       "    </tr>\n",
       "    <tr>\n",
       "      <th>3</th>\n",
       "      <td>16</td>\n",
       "      <td>77</td>\n",
       "      <td>23</td>\n",
       "    </tr>\n",
       "    <tr>\n",
       "      <th>4</th>\n",
       "      <td>17</td>\n",
       "      <td>40</td>\n",
       "      <td>31</td>\n",
       "    </tr>\n",
       "  </tbody>\n",
       "</table>\n",
       "</div>"
      ],
      "text/plain": [
       "   Annual Income (k$)  Spending Score (1-100)  Age\n",
       "0                  15                      39   19\n",
       "1                  15                      81   21\n",
       "2                  16                       6   20\n",
       "3                  16                      77   23\n",
       "4                  17                      40   31"
      ]
     },
     "execution_count": 57,
     "metadata": {},
     "output_type": "execute_result"
    }
   ],
   "source": [
    "df1.head()"
   ]
  },
  {
   "cell_type": "code",
   "execution_count": null,
   "metadata": {},
   "outputs": [],
   "source": []
  },
  {
   "cell_type": "code",
   "execution_count": 74,
   "metadata": {},
   "outputs": [],
   "source": [
    "dbscan_cluster = DBSCAN(eps=12,min_samples=4)\n",
    "df2 =dbscan_cluster.fit(df1)"
   ]
  },
  {
   "cell_type": "code",
   "execution_count": 75,
   "metadata": {},
   "outputs": [
    {
     "data": {
      "text/plain": [
       "array([-1,  0, -1,  0,  1,  0, -1, -1,  2,  0, -1, -1,  2,  0, -1,  0,  1,\n",
       "        0,  1, -1,  1,  0,  2,  0,  2,  0,  1,  0,  1,  0,  2,  0,  2,  0,\n",
       "        2,  0,  2,  0,  1,  0, -1,  0,  0,  0,  0,  0,  0,  0,  0,  0,  0,\n",
       "        0,  0,  0,  0,  0,  0,  0,  0,  0,  0,  0,  0,  0,  0,  0,  0,  0,\n",
       "        0,  0,  0,  0,  0,  0,  0,  0,  0,  0,  0,  0,  0,  0,  0,  0,  0,\n",
       "        0,  0,  0,  0,  0,  0,  0,  0,  0,  0,  0,  0,  0,  0,  0,  0,  0,\n",
       "        0,  0,  0,  0,  0,  0,  0,  0,  0,  0,  0,  0,  0,  0,  0,  0,  0,\n",
       "        0,  0,  0,  0,  3, -1,  3,  0,  3, -1,  3,  4,  3, -1,  3,  5,  3,\n",
       "        4,  3,  5,  3,  4,  3, -1,  3,  5,  3,  0,  3,  4,  3,  4,  3,  4,\n",
       "        3,  4,  3,  4,  3, -1,  3, -1,  3,  5,  3,  4,  3,  4,  3,  4,  3,\n",
       "        4,  3,  4,  3,  4,  3,  4,  3,  4,  3,  4,  3,  4,  3,  4,  3, -1,\n",
       "       -1, -1,  3,  4, -1, -1,  3, -1, -1, -1, -1, -1, -1])"
      ]
     },
     "execution_count": 75,
     "metadata": {},
     "output_type": "execute_result"
    }
   ],
   "source": [
    "df2.labels_"
   ]
  },
  {
   "cell_type": "code",
   "execution_count": 76,
   "metadata": {},
   "outputs": [
    {
     "data": {
      "text/plain": [
       "array([  1,   3,   5,   9,  13,  15,  16,  17,  20,  21,  23,  24,  25,\n",
       "        26,  28,  29,  30,  31,  32,  33,  34,  35,  37,  39,  42,  43,\n",
       "        45,  46,  47,  48,  49,  50,  51,  52,  53,  54,  55,  56,  57,\n",
       "        58,  59,  60,  61,  62,  63,  64,  65,  66,  67,  68,  69,  70,\n",
       "        71,  72,  73,  74,  75,  76,  77,  78,  79,  80,  81,  82,  83,\n",
       "        84,  85,  86,  87,  88,  89,  90,  91,  92,  93,  94,  95,  96,\n",
       "        97,  98,  99, 100, 101, 102, 103, 104, 105, 106, 107, 108, 109,\n",
       "       110, 111, 112, 113, 114, 115, 116, 117, 118, 119, 120, 121, 122,\n",
       "       123, 125, 126, 127, 129, 130, 131, 133, 134, 135, 136, 137, 138,\n",
       "       139, 141, 143, 144, 145, 147, 148, 149, 150, 151, 152, 153, 154,\n",
       "       155, 157, 159, 161, 162, 163, 165, 166, 167, 168, 170, 171, 173,\n",
       "       174, 175, 177, 179, 180, 181, 183, 185, 189])"
      ]
     },
     "execution_count": 76,
     "metadata": {},
     "output_type": "execute_result"
    }
   ],
   "source": [
    "df2.core_sample_indices_"
   ]
  },
  {
   "cell_type": "code",
   "execution_count": 77,
   "metadata": {},
   "outputs": [
    {
     "data": {
      "text/plain": [
       "array([[ 15,  81,  21],\n",
       "       [ 16,  77,  23],\n",
       "       [ 17,  76,  22],\n",
       "       [ 19,  72,  30],\n",
       "       [ 20,  77,  24],\n",
       "       [ 20,  79,  22],\n",
       "       [ 21,  35,  35],\n",
       "       [ 21,  66,  20],\n",
       "       [ 24,  35,  35],\n",
       "       [ 24,  73,  25],\n",
       "       [ 25,  73,  31],\n",
       "       [ 28,  14,  54],\n",
       "       [ 28,  82,  29],\n",
       "       [ 28,  32,  45],\n",
       "       [ 29,  31,  40],\n",
       "       [ 29,  87,  23],\n",
       "       [ 30,   4,  60],\n",
       "       [ 30,  73,  21],\n",
       "       [ 33,   4,  53],\n",
       "       [ 33,  92,  18],\n",
       "       [ 33,  14,  49],\n",
       "       [ 33,  81,  21],\n",
       "       [ 34,  73,  30],\n",
       "       [ 37,  75,  20],\n",
       "       [ 39,  36,  48],\n",
       "       [ 39,  61,  31],\n",
       "       [ 39,  65,  24],\n",
       "       [ 40,  55,  50],\n",
       "       [ 40,  47,  27],\n",
       "       [ 40,  42,  29],\n",
       "       [ 40,  42,  31],\n",
       "       [ 42,  52,  49],\n",
       "       [ 42,  60,  33],\n",
       "       [ 43,  54,  31],\n",
       "       [ 43,  60,  59],\n",
       "       [ 43,  45,  50],\n",
       "       [ 43,  41,  47],\n",
       "       [ 44,  50,  51],\n",
       "       [ 44,  46,  69],\n",
       "       [ 46,  51,  27],\n",
       "       [ 46,  46,  53],\n",
       "       [ 46,  56,  70],\n",
       "       [ 46,  55,  19],\n",
       "       [ 47,  52,  67],\n",
       "       [ 47,  59,  54],\n",
       "       [ 48,  51,  63],\n",
       "       [ 48,  59,  18],\n",
       "       [ 48,  50,  43],\n",
       "       [ 48,  48,  68],\n",
       "       [ 48,  59,  19],\n",
       "       [ 48,  47,  32],\n",
       "       [ 49,  55,  70],\n",
       "       [ 49,  42,  47],\n",
       "       [ 50,  49,  60],\n",
       "       [ 50,  56,  60],\n",
       "       [ 54,  47,  59],\n",
       "       [ 54,  54,  26],\n",
       "       [ 54,  53,  45],\n",
       "       [ 54,  48,  40],\n",
       "       [ 54,  52,  23],\n",
       "       [ 54,  42,  49],\n",
       "       [ 54,  51,  57],\n",
       "       [ 54,  55,  38],\n",
       "       [ 54,  41,  67],\n",
       "       [ 54,  44,  46],\n",
       "       [ 54,  57,  21],\n",
       "       [ 54,  46,  48],\n",
       "       [ 57,  58,  55],\n",
       "       [ 57,  55,  22],\n",
       "       [ 58,  60,  34],\n",
       "       [ 58,  46,  50],\n",
       "       [ 59,  55,  68],\n",
       "       [ 59,  41,  18],\n",
       "       [ 60,  49,  48],\n",
       "       [ 60,  40,  40],\n",
       "       [ 60,  42,  32],\n",
       "       [ 60,  52,  24],\n",
       "       [ 60,  47,  47],\n",
       "       [ 60,  50,  27],\n",
       "       [ 61,  42,  48],\n",
       "       [ 61,  49,  20],\n",
       "       [ 62,  41,  23],\n",
       "       [ 62,  48,  49],\n",
       "       [ 62,  59,  67],\n",
       "       [ 62,  55,  26],\n",
       "       [ 62,  56,  49],\n",
       "       [ 62,  42,  21],\n",
       "       [ 63,  50,  66],\n",
       "       [ 63,  46,  54],\n",
       "       [ 63,  43,  68],\n",
       "       [ 63,  48,  66],\n",
       "       [ 63,  52,  65],\n",
       "       [ 63,  54,  19],\n",
       "       [ 64,  42,  38],\n",
       "       [ 64,  46,  19],\n",
       "       [ 65,  48,  18],\n",
       "       [ 65,  50,  19],\n",
       "       [ 65,  43,  63],\n",
       "       [ 65,  59,  49],\n",
       "       [ 67,  43,  51],\n",
       "       [ 67,  57,  50],\n",
       "       [ 67,  56,  27],\n",
       "       [ 67,  40,  38],\n",
       "       [ 69,  58,  40],\n",
       "       [ 69,  91,  39],\n",
       "       [ 70,  77,  31],\n",
       "       [ 71,  35,  43],\n",
       "       [ 71,  95,  40],\n",
       "       [ 71,  75,  38],\n",
       "       [ 71,   9,  47],\n",
       "       [ 71,  75,  39],\n",
       "       [ 72,  71,  31],\n",
       "       [ 73,   5,  20],\n",
       "       [ 73,  88,  29],\n",
       "       [ 73,   7,  44],\n",
       "       [ 73,  73,  32],\n",
       "       [ 74,  10,  19],\n",
       "       [ 74,  72,  35],\n",
       "       [ 75,  93,  32],\n",
       "       [ 76,  87,  32],\n",
       "       [ 77,  12,  25],\n",
       "       [ 77,  97,  28],\n",
       "       [ 77,  74,  32],\n",
       "       [ 78,  22,  34],\n",
       "       [ 78,  90,  34],\n",
       "       [ 78,  17,  43],\n",
       "       [ 78,  88,  39],\n",
       "       [ 78,  20,  44],\n",
       "       [ 78,  76,  38],\n",
       "       [ 78,  16,  47],\n",
       "       [ 78,  89,  27],\n",
       "       [ 78,  78,  30],\n",
       "       [ 78,  73,  30],\n",
       "       [ 79,  83,  29],\n",
       "       [ 81,   5,  19],\n",
       "       [ 81,  93,  31],\n",
       "       [ 85,  75,  36],\n",
       "       [ 86,  20,  42],\n",
       "       [ 86,  95,  33],\n",
       "       [ 87,  27,  36],\n",
       "       [ 87,  13,  40],\n",
       "       [ 87,  75,  28],\n",
       "       [ 87,  92,  36],\n",
       "       [ 88,  13,  52],\n",
       "       [ 88,  86,  30],\n",
       "       [ 88,  69,  27],\n",
       "       [ 93,  90,  35],\n",
       "       [ 97,  32,  37],\n",
       "       [ 97,  86,  32],\n",
       "       [ 98,  88,  29],\n",
       "       [ 99,  97,  30],\n",
       "       [103,  85,  36]])"
      ]
     },
     "execution_count": 77,
     "metadata": {},
     "output_type": "execute_result"
    }
   ],
   "source": [
    "df2.components_"
   ]
  },
  {
   "cell_type": "code",
   "execution_count": 78,
   "metadata": {},
   "outputs": [],
   "source": [
    "dbscan_dataset= df1.copy()\n",
    "dbscan_dataset.loc[:,'Cluster']= df2.labels_"
   ]
  },
  {
   "cell_type": "code",
   "execution_count": 79,
   "metadata": {},
   "outputs": [
    {
     "data": {
      "text/plain": [
       "pandas.core.frame.DataFrame"
      ]
     },
     "execution_count": 79,
     "metadata": {},
     "output_type": "execute_result"
    }
   ],
   "source": [
    "type(dbscan_dataset)"
   ]
  },
  {
   "cell_type": "code",
   "execution_count": 80,
   "metadata": {},
   "outputs": [
    {
     "data": {
      "text/plain": [
       "Cluster\n",
       " 5      4\n",
       " 1      7\n",
       " 2      8\n",
       " 4     20\n",
       "-1     26\n",
       " 3     34\n",
       " 0    101\n",
       "Name: count, dtype: int64"
      ]
     },
     "execution_count": 80,
     "metadata": {},
     "output_type": "execute_result"
    }
   ],
   "source": [
    "dbscan_dataset.Cluster.value_counts().sort_values(ascending=True)"
   ]
  },
  {
   "cell_type": "code",
   "execution_count": 81,
   "metadata": {},
   "outputs": [
    {
     "data": {
      "text/html": [
       "<div>\n",
       "<style scoped>\n",
       "    .dataframe tbody tr th:only-of-type {\n",
       "        vertical-align: middle;\n",
       "    }\n",
       "\n",
       "    .dataframe tbody tr th {\n",
       "        vertical-align: top;\n",
       "    }\n",
       "\n",
       "    .dataframe thead th {\n",
       "        text-align: right;\n",
       "    }\n",
       "</style>\n",
       "<table border=\"1\" class=\"dataframe\">\n",
       "  <thead>\n",
       "    <tr style=\"text-align: right;\">\n",
       "      <th></th>\n",
       "      <th>Annual Income (k$)</th>\n",
       "      <th>Spending Score (1-100)</th>\n",
       "      <th>Age</th>\n",
       "      <th>Cluster</th>\n",
       "    </tr>\n",
       "  </thead>\n",
       "  <tbody>\n",
       "    <tr>\n",
       "      <th>0</th>\n",
       "      <td>15</td>\n",
       "      <td>39</td>\n",
       "      <td>19</td>\n",
       "      <td>-1</td>\n",
       "    </tr>\n",
       "    <tr>\n",
       "      <th>1</th>\n",
       "      <td>15</td>\n",
       "      <td>81</td>\n",
       "      <td>21</td>\n",
       "      <td>0</td>\n",
       "    </tr>\n",
       "    <tr>\n",
       "      <th>2</th>\n",
       "      <td>16</td>\n",
       "      <td>6</td>\n",
       "      <td>20</td>\n",
       "      <td>-1</td>\n",
       "    </tr>\n",
       "    <tr>\n",
       "      <th>3</th>\n",
       "      <td>16</td>\n",
       "      <td>77</td>\n",
       "      <td>23</td>\n",
       "      <td>0</td>\n",
       "    </tr>\n",
       "    <tr>\n",
       "      <th>4</th>\n",
       "      <td>17</td>\n",
       "      <td>40</td>\n",
       "      <td>31</td>\n",
       "      <td>1</td>\n",
       "    </tr>\n",
       "  </tbody>\n",
       "</table>\n",
       "</div>"
      ],
      "text/plain": [
       "   Annual Income (k$)  Spending Score (1-100)  Age  Cluster\n",
       "0                  15                      39   19       -1\n",
       "1                  15                      81   21        0\n",
       "2                  16                       6   20       -1\n",
       "3                  16                      77   23        0\n",
       "4                  17                      40   31        1"
      ]
     },
     "execution_count": 81,
     "metadata": {},
     "output_type": "execute_result"
    }
   ],
   "source": [
    "dbscan_dataset.head()"
   ]
  },
  {
   "cell_type": "code",
   "execution_count": 82,
   "metadata": {},
   "outputs": [
    {
     "data": {
      "text/html": [
       "<div>\n",
       "<style scoped>\n",
       "    .dataframe tbody tr th:only-of-type {\n",
       "        vertical-align: middle;\n",
       "    }\n",
       "\n",
       "    .dataframe tbody tr th {\n",
       "        vertical-align: top;\n",
       "    }\n",
       "\n",
       "    .dataframe thead th {\n",
       "        text-align: right;\n",
       "    }\n",
       "</style>\n",
       "<table border=\"1\" class=\"dataframe\">\n",
       "  <thead>\n",
       "    <tr style=\"text-align: right;\">\n",
       "      <th></th>\n",
       "      <th>Annual Income (k$)</th>\n",
       "      <th>Spending Score (1-100)</th>\n",
       "      <th>Age</th>\n",
       "      <th>Cluster</th>\n",
       "    </tr>\n",
       "  </thead>\n",
       "  <tbody>\n",
       "    <tr>\n",
       "      <th>195</th>\n",
       "      <td>120</td>\n",
       "      <td>79</td>\n",
       "      <td>35</td>\n",
       "      <td>-1</td>\n",
       "    </tr>\n",
       "    <tr>\n",
       "      <th>196</th>\n",
       "      <td>126</td>\n",
       "      <td>28</td>\n",
       "      <td>45</td>\n",
       "      <td>-1</td>\n",
       "    </tr>\n",
       "    <tr>\n",
       "      <th>197</th>\n",
       "      <td>126</td>\n",
       "      <td>74</td>\n",
       "      <td>32</td>\n",
       "      <td>-1</td>\n",
       "    </tr>\n",
       "    <tr>\n",
       "      <th>198</th>\n",
       "      <td>137</td>\n",
       "      <td>18</td>\n",
       "      <td>32</td>\n",
       "      <td>-1</td>\n",
       "    </tr>\n",
       "    <tr>\n",
       "      <th>199</th>\n",
       "      <td>137</td>\n",
       "      <td>83</td>\n",
       "      <td>30</td>\n",
       "      <td>-1</td>\n",
       "    </tr>\n",
       "  </tbody>\n",
       "</table>\n",
       "</div>"
      ],
      "text/plain": [
       "     Annual Income (k$)  Spending Score (1-100)  Age  Cluster\n",
       "195                 120                      79   35       -1\n",
       "196                 126                      28   45       -1\n",
       "197                 126                      74   32       -1\n",
       "198                 137                      18   32       -1\n",
       "199                 137                      83   30       -1"
      ]
     },
     "execution_count": 82,
     "metadata": {},
     "output_type": "execute_result"
    }
   ],
   "source": [
    "dbscan_dataset.tail()"
   ]
  },
  {
   "cell_type": "code",
   "execution_count": 83,
   "metadata": {},
   "outputs": [],
   "source": [
    "df3 = dbscan_dataset[dbscan_dataset['Cluster']!= -1]"
   ]
  },
  {
   "cell_type": "code",
   "execution_count": 84,
   "metadata": {},
   "outputs": [
    {
     "data": {
      "text/html": [
       "<div>\n",
       "<style scoped>\n",
       "    .dataframe tbody tr th:only-of-type {\n",
       "        vertical-align: middle;\n",
       "    }\n",
       "\n",
       "    .dataframe tbody tr th {\n",
       "        vertical-align: top;\n",
       "    }\n",
       "\n",
       "    .dataframe thead th {\n",
       "        text-align: right;\n",
       "    }\n",
       "</style>\n",
       "<table border=\"1\" class=\"dataframe\">\n",
       "  <thead>\n",
       "    <tr style=\"text-align: right;\">\n",
       "      <th></th>\n",
       "      <th>Annual Income (k$)</th>\n",
       "      <th>Spending Score (1-100)</th>\n",
       "      <th>Age</th>\n",
       "      <th>Cluster</th>\n",
       "    </tr>\n",
       "  </thead>\n",
       "  <tbody>\n",
       "    <tr>\n",
       "      <th>1</th>\n",
       "      <td>15</td>\n",
       "      <td>81</td>\n",
       "      <td>21</td>\n",
       "      <td>0</td>\n",
       "    </tr>\n",
       "    <tr>\n",
       "      <th>3</th>\n",
       "      <td>16</td>\n",
       "      <td>77</td>\n",
       "      <td>23</td>\n",
       "      <td>0</td>\n",
       "    </tr>\n",
       "    <tr>\n",
       "      <th>4</th>\n",
       "      <td>17</td>\n",
       "      <td>40</td>\n",
       "      <td>31</td>\n",
       "      <td>1</td>\n",
       "    </tr>\n",
       "    <tr>\n",
       "      <th>5</th>\n",
       "      <td>17</td>\n",
       "      <td>76</td>\n",
       "      <td>22</td>\n",
       "      <td>0</td>\n",
       "    </tr>\n",
       "    <tr>\n",
       "      <th>8</th>\n",
       "      <td>19</td>\n",
       "      <td>3</td>\n",
       "      <td>64</td>\n",
       "      <td>2</td>\n",
       "    </tr>\n",
       "  </tbody>\n",
       "</table>\n",
       "</div>"
      ],
      "text/plain": [
       "   Annual Income (k$)  Spending Score (1-100)  Age  Cluster\n",
       "1                  15                      81   21        0\n",
       "3                  16                      77   23        0\n",
       "4                  17                      40   31        1\n",
       "5                  17                      76   22        0\n",
       "8                  19                       3   64        2"
      ]
     },
     "execution_count": 84,
     "metadata": {},
     "output_type": "execute_result"
    }
   ],
   "source": [
    "df3.head()"
   ]
  },
  {
   "cell_type": "code",
   "execution_count": 97,
   "metadata": {},
   "outputs": [
    {
     "data": {
      "image/png": "[encoded data removed]",
      "text/plain": [
       "<Figure size 1200x400 with 2 Axes>"
      ]
     },
     "metadata": {},
     "output_type": "display_data"
    }
   ],
   "source": [
    "Outliers = dbscan_dataset[dbscan_dataset['Cluster'] == -1]\n",
    "fig,(axs) = plt.subplots(1,2,figsize=(12,4))\n",
    "sns.scatterplot(x=\"Annual Income (k$)\",y=\"Spending Score (1-100)\",data=df3,\n",
    "                hue= \"Cluster\",ax=axs[0],legend=True,palette=\"Set2\" )\n",
    "sns.scatterplot(x='Age',y='Spending Score (1-100)',data=df3,\n",
    "                hue='Cluster', ax=axs[1], legend=True,palette=\"Set2\")\n",
    "\n",
    "axs[0].scatter(Outliers['Annual Income (k$)'],Outliers['Spending Score (1-100)'],label='Outliers')\n",
    "axs[1].scatter(Outliers['Age'],Outliers['Spending Score (1-100)'],label='Outliers')\n",
    "\n",
    "axs[0].legend()\n",
    "axs[1].legend()\n",
    "plt.title(\"Segmentation of Customer Based on the Income and Age with respect to the their Expenditure\",loc='left')\n",
    "plt.setp(axs[0].get_legend().get_texts(), fontsize='12')\n",
    "plt.setp(axs[1].get_legend().get_texts(), fontsize='12')\n",
    "plt.savefig(\"Clusters.png\",dpi=300)\n",
    "plt.show()\n"
   ]
  },
  {
   "cell_type": "code",
   "execution_count": null,
   "metadata": {},
   "outputs": [],
   "source": []
  }
 ],
 "metadata": {
  "kernelspec": {
   "display_name": "base",
   "language": "python",
   "name": "python3"
  },
  "language_info": {
   "codemirror_mode": {
    "name": "ipython",
    "version": 3
   },
   "file_extension": ".py",
   "mimetype": "text/x-python",
   "name": "python",
   "nbconvert_exporter": "python",
   "pygments_lexer": "ipython3",
   "version": "3.11.5"
  }
 },
 "nbformat": 4,
 "nbformat_minor": 2
}
